{
 "cells": [
  {
   "cell_type": "code",
   "execution_count": 1,
   "metadata": {
    "collapsed": true
   },
   "outputs": [],
   "source": [
    "import selenium\n",
    "from selenium import webdriver\n",
    "import pandas as pd\n",
    "import time\n",
    "from selenium.webdriver.common.action_chains import ActionChains\n",
    "from selenium.webdriver.common.keys import Keys\n",
    "import pandas as pd\n",
    "\n",
    "driver = webdriver.Chrome() \n",
    "driver.get('https://coinmarketcap.com/')\n",
    "\n",
    "linkek= []\n",
    "nevek = []\n",
    "\n",
    "my_link = driver.find_elements_by_css_selector(\".currency-name a\")\n",
    "\n",
    "for i in range(0,len(my_link)):\n",
    "    linkek.append(my_link[i].get_attribute('href'))\n",
    "\n",
    "\n",
    "name = driver.find_elements_by_css_selector(\".currency-name\")\n",
    "\n",
    "for i in range(0,len(name)):\n",
    "    nevek.append(name[i].text)\n",
    "\n",
    "mydf = pd.DataFrame({'name': nevek, 'links':linkek})\n",
    "                     \n",
    "driver.close()\n"
   ]
  },
  {
   "cell_type": "code",
   "execution_count": 2,
   "metadata": {
    "collapsed": false,
    "scrolled": true
   },
   "outputs": [
    {
     "data": {
      "text/plain": [
       "['https://coinmarketcap.com/currencies/bitcoin/',\n",
       " 'https://coinmarketcap.com/currencies/ethereum/',\n",
       " 'https://coinmarketcap.com/currencies/ripple/',\n",
       " 'https://coinmarketcap.com/currencies/litecoin/',\n",
       " 'https://coinmarketcap.com/currencies/ethereum-classic/',\n",
       " 'https://coinmarketcap.com/currencies/nem/',\n",
       " 'https://coinmarketcap.com/currencies/dash/',\n",
       " 'https://coinmarketcap.com/currencies/iota/',\n",
       " 'https://coinmarketcap.com/currencies/stratis/',\n",
       " 'https://coinmarketcap.com/currencies/monero/',\n",
       " 'https://coinmarketcap.com/currencies/bitshares/',\n",
       " 'https://coinmarketcap.com/currencies/zcash/',\n",
       " 'https://coinmarketcap.com/assets/golem-network-tokens/',\n",
       " 'https://coinmarketcap.com/currencies/steem/',\n",
       " 'https://coinmarketcap.com/currencies/siacoin/',\n",
       " 'https://coinmarketcap.com/currencies/waves/',\n",
       " 'https://coinmarketcap.com/currencies/bytecoin-bcn/',\n",
       " 'https://coinmarketcap.com/assets/iconomi/',\n",
       " 'https://coinmarketcap.com/currencies/antshares/',\n",
       " 'https://coinmarketcap.com/currencies/bitconnect/',\n",
       " 'https://coinmarketcap.com/assets/augur/',\n",
       " 'https://coinmarketcap.com/currencies/stellar/',\n",
       " 'https://coinmarketcap.com/currencies/dogecoin/',\n",
       " 'https://coinmarketcap.com/currencies/lisk/',\n",
       " 'https://coinmarketcap.com/currencies/gamecredits/',\n",
       " 'https://coinmarketcap.com/currencies/factom/',\n",
       " 'https://coinmarketcap.com/assets/gnosis-gno/',\n",
       " 'https://coinmarketcap.com/assets/ardor/',\n",
       " 'https://coinmarketcap.com/assets/maidsafecoin/',\n",
       " 'https://coinmarketcap.com/currencies/byteball/',\n",
       " 'https://coinmarketcap.com/currencies/decred/',\n",
       " 'https://coinmarketcap.com/assets/veritaseum/',\n",
       " 'https://coinmarketcap.com/currencies/komodo/',\n",
       " 'https://coinmarketcap.com/assets/digixdao/',\n",
       " 'https://coinmarketcap.com/currencies/digibyte/',\n",
       " 'https://coinmarketcap.com/currencies/nxt/',\n",
       " 'https://coinmarketcap.com/assets/basic-attention-token/',\n",
       " 'https://coinmarketcap.com/assets/tether/',\n",
       " 'https://coinmarketcap.com/assets/firstblood/',\n",
       " 'https://coinmarketcap.com/assets/mobilego/',\n",
       " 'https://coinmarketcap.com/currencies/bancor/',\n",
       " 'https://coinmarketcap.com/assets/singulardtv/',\n",
       " 'https://coinmarketcap.com/currencies/syscoin/',\n",
       " 'https://coinmarketcap.com/currencies/pivx/',\n",
       " 'https://coinmarketcap.com/currencies/bitcoindark/',\n",
       " 'https://coinmarketcap.com/assets/mcap/',\n",
       " 'https://coinmarketcap.com/assets/aragon/',\n",
       " 'https://coinmarketcap.com/assets/round/',\n",
       " 'https://coinmarketcap.com/currencies/emercoin/',\n",
       " 'https://coinmarketcap.com/currencies/ubiq/',\n",
       " 'https://coinmarketcap.com/currencies/peercoin/',\n",
       " 'https://coinmarketcap.com/assets/numeraire/',\n",
       " 'https://coinmarketcap.com/currencies/lykke/',\n",
       " 'https://coinmarketcap.com/currencies/ark/',\n",
       " 'https://coinmarketcap.com/currencies/cloakcoin/',\n",
       " 'https://coinmarketcap.com/currencies/leocoin/',\n",
       " 'https://coinmarketcap.com/assets/rlc/',\n",
       " 'https://coinmarketcap.com/assets/storjcoin-x/',\n",
       " 'https://coinmarketcap.com/currencies/reddcoin/',\n",
       " 'https://coinmarketcap.com/currencies/asch/',\n",
       " 'https://coinmarketcap.com/currencies/nexus/',\n",
       " 'https://coinmarketcap.com/assets/quantum-resistant-ledger/',\n",
       " 'https://coinmarketcap.com/assets/melon/',\n",
       " 'https://coinmarketcap.com/currencies/library-credit/',\n",
       " 'https://coinmarketcap.com/assets/synereo/',\n",
       " 'https://coinmarketcap.com/currencies/bitbay/',\n",
       " 'https://coinmarketcap.com/currencies/peerplays-ppy/',\n",
       " 'https://coinmarketcap.com/assets/wings/',\n",
       " 'https://coinmarketcap.com/assets/edgeless/',\n",
       " 'https://coinmarketcap.com/currencies/omni/',\n",
       " 'https://coinmarketcap.com/currencies/verge/',\n",
       " 'https://coinmarketcap.com/currencies/namecoin/',\n",
       " 'https://coinmarketcap.com/currencies/counterparty/',\n",
       " 'https://coinmarketcap.com/currencies/gulden/',\n",
       " 'https://coinmarketcap.com/currencies/monacoin/',\n",
       " 'https://coinmarketcap.com/currencies/mysterium/',\n",
       " 'https://coinmarketcap.com/currencies/blackcoin/',\n",
       " 'https://coinmarketcap.com/assets/obits/',\n",
       " 'https://coinmarketcap.com/assets/xaurum/',\n",
       " 'https://coinmarketcap.com/currencies/burst/',\n",
       " 'https://coinmarketcap.com/currencies/zcoin/',\n",
       " 'https://coinmarketcap.com/currencies/viacoin/',\n",
       " 'https://coinmarketcap.com/assets/vslice/',\n",
       " 'https://coinmarketcap.com/currencies/vertcoin/',\n",
       " 'https://coinmarketcap.com/assets/humaniq/',\n",
       " 'https://coinmarketcap.com/assets/cofound-it/',\n",
       " 'https://coinmarketcap.com/currencies/elastic/',\n",
       " 'https://coinmarketcap.com/currencies/earthcoin/',\n",
       " 'https://coinmarketcap.com/currencies/blocknet/',\n",
       " 'https://coinmarketcap.com/currencies/nav-coin/',\n",
       " 'https://coinmarketcap.com/assets/trust/',\n",
       " 'https://coinmarketcap.com/currencies/ybcoin/',\n",
       " 'https://coinmarketcap.com/currencies/gridcoin/',\n",
       " 'https://coinmarketcap.com/currencies/potcoin/',\n",
       " 'https://coinmarketcap.com/assets/etheroll/',\n",
       " 'https://coinmarketcap.com/currencies/expanse/',\n",
       " 'https://coinmarketcap.com/assets/tokencard/',\n",
       " 'https://coinmarketcap.com/currencies/e-dinar-coin/',\n",
       " 'https://coinmarketcap.com/assets/quantum/',\n",
       " 'https://coinmarketcap.com/assets/guppy/']"
      ]
     },
     "execution_count": 2,
     "metadata": {},
     "output_type": "execute_result"
    }
   ],
   "source": [
    "linkek"
   ]
  },
  {
   "cell_type": "code",
   "execution_count": 6,
   "metadata": {
    "collapsed": false
   },
   "outputs": [
    {
     "data": {
      "text/plain": [
       "'golem-network-tokens'"
      ]
     },
     "execution_count": 6,
     "metadata": {},
     "output_type": "execute_result"
    }
   ],
   "source": []
  },
  {
   "cell_type": "code",
   "execution_count": null,
   "metadata": {
    "collapsed": true
   },
   "outputs": [],
   "source": []
  },
  {
   "cell_type": "code",
   "execution_count": 7,
   "metadata": {
    "collapsed": false
   },
   "outputs": [
    {
     "ename": "NoSuchWindowException",
     "evalue": "Message: no such window: target window already closed\nfrom unknown error: web view not found\n  (Session info: chrome=58.0.3029.110)\n  (Driver info: chromedriver=2.30.477691 (6ee44a7247c639c0703f291d320bdf05c1531b57),platform=Linux 4.4.0-78-generic x86_64)\n",
     "output_type": "error",
     "traceback": [
      "\u001b[0;31m---------------------------------------------------------------------------\u001b[0m",
      "\u001b[0;31mNoSuchWindowException\u001b[0m                     Traceback (most recent call last)",
      "\u001b[0;32m<ipython-input-7-e2505a3001bb>\u001b[0m in \u001b[0;36m<module>\u001b[0;34m()\u001b[0m\n\u001b[1;32m      9\u001b[0m     \u001b[0mdriver\u001b[0m\u001b[0;34m.\u001b[0m\u001b[0mget\u001b[0m\u001b[0;34m(\u001b[0m\u001b[0mi\u001b[0m\u001b[0;34m)\u001b[0m\u001b[0;34m\u001b[0m\u001b[0m\n\u001b[1;32m     10\u001b[0m     \u001b[0mtime\u001b[0m\u001b[0;34m.\u001b[0m\u001b[0msleep\u001b[0m\u001b[0;34m(\u001b[0m\u001b[0;36m2\u001b[0m\u001b[0;34m)\u001b[0m\u001b[0;34m\u001b[0m\u001b[0m\n\u001b[0;32m---> 11\u001b[0;31m     \u001b[0mdriver\u001b[0m\u001b[0;34m.\u001b[0m\u001b[0mexecute_script\u001b[0m\u001b[0;34m(\u001b[0m\u001b[0;34m\"window.scrollTo(0, 280);\"\u001b[0m\u001b[0;34m)\u001b[0m\u001b[0;34m\u001b[0m\u001b[0m\n\u001b[0m\u001b[1;32m     12\u001b[0m \u001b[0;34m\u001b[0m\u001b[0m\n\u001b[1;32m     13\u001b[0m     \u001b[0mdriver\u001b[0m\u001b[0;34m.\u001b[0m\u001b[0msave_screenshot\u001b[0m\u001b[0;34m(\u001b[0m\u001b[0;34m'grafikon/'\u001b[0m\u001b[0;34m+\u001b[0m\u001b[0mfile_name\u001b[0m \u001b[0;34m+\u001b[0m \u001b[0;34m'.png'\u001b[0m\u001b[0;34m)\u001b[0m\u001b[0;34m\u001b[0m\u001b[0m\n",
      "\u001b[0;32m/home/mihaly/hadoop/anaconda3/lib/python3.5/site-packages/selenium/webdriver/remote/webdriver.py\u001b[0m in \u001b[0;36mexecute_script\u001b[0;34m(self, script, *args)\u001b[0m\n\u001b[1;32m    463\u001b[0m         return self.execute(Command.EXECUTE_SCRIPT, {\n\u001b[1;32m    464\u001b[0m             \u001b[0;34m'script'\u001b[0m\u001b[0;34m:\u001b[0m \u001b[0mscript\u001b[0m\u001b[0;34m,\u001b[0m\u001b[0;34m\u001b[0m\u001b[0m\n\u001b[0;32m--> 465\u001b[0;31m             'args': converted_args})['value']\n\u001b[0m\u001b[1;32m    466\u001b[0m \u001b[0;34m\u001b[0m\u001b[0m\n\u001b[1;32m    467\u001b[0m     \u001b[0;32mdef\u001b[0m \u001b[0mexecute_async_script\u001b[0m\u001b[0;34m(\u001b[0m\u001b[0mself\u001b[0m\u001b[0;34m,\u001b[0m \u001b[0mscript\u001b[0m\u001b[0;34m,\u001b[0m \u001b[0;34m*\u001b[0m\u001b[0margs\u001b[0m\u001b[0;34m)\u001b[0m\u001b[0;34m:\u001b[0m\u001b[0;34m\u001b[0m\u001b[0m\n",
      "\u001b[0;32m/home/mihaly/hadoop/anaconda3/lib/python3.5/site-packages/selenium/webdriver/remote/webdriver.py\u001b[0m in \u001b[0;36mexecute\u001b[0;34m(self, driver_command, params)\u001b[0m\n\u001b[1;32m    234\u001b[0m         \u001b[0mresponse\u001b[0m \u001b[0;34m=\u001b[0m \u001b[0mself\u001b[0m\u001b[0;34m.\u001b[0m\u001b[0mcommand_executor\u001b[0m\u001b[0;34m.\u001b[0m\u001b[0mexecute\u001b[0m\u001b[0;34m(\u001b[0m\u001b[0mdriver_command\u001b[0m\u001b[0;34m,\u001b[0m \u001b[0mparams\u001b[0m\u001b[0;34m)\u001b[0m\u001b[0;34m\u001b[0m\u001b[0m\n\u001b[1;32m    235\u001b[0m         \u001b[0;32mif\u001b[0m \u001b[0mresponse\u001b[0m\u001b[0;34m:\u001b[0m\u001b[0;34m\u001b[0m\u001b[0m\n\u001b[0;32m--> 236\u001b[0;31m             \u001b[0mself\u001b[0m\u001b[0;34m.\u001b[0m\u001b[0merror_handler\u001b[0m\u001b[0;34m.\u001b[0m\u001b[0mcheck_response\u001b[0m\u001b[0;34m(\u001b[0m\u001b[0mresponse\u001b[0m\u001b[0;34m)\u001b[0m\u001b[0;34m\u001b[0m\u001b[0m\n\u001b[0m\u001b[1;32m    237\u001b[0m             response['value'] = self._unwrap_value(\n\u001b[1;32m    238\u001b[0m                 response.get('value', None))\n",
      "\u001b[0;32m/home/mihaly/hadoop/anaconda3/lib/python3.5/site-packages/selenium/webdriver/remote/errorhandler.py\u001b[0m in \u001b[0;36mcheck_response\u001b[0;34m(self, response)\u001b[0m\n\u001b[1;32m    190\u001b[0m         \u001b[0;32melif\u001b[0m \u001b[0mexception_class\u001b[0m \u001b[0;34m==\u001b[0m \u001b[0mUnexpectedAlertPresentException\u001b[0m \u001b[0;32mand\u001b[0m \u001b[0;34m'alert'\u001b[0m \u001b[0;32min\u001b[0m \u001b[0mvalue\u001b[0m\u001b[0;34m:\u001b[0m\u001b[0;34m\u001b[0m\u001b[0m\n\u001b[1;32m    191\u001b[0m             \u001b[0;32mraise\u001b[0m \u001b[0mexception_class\u001b[0m\u001b[0;34m(\u001b[0m\u001b[0mmessage\u001b[0m\u001b[0;34m,\u001b[0m \u001b[0mscreen\u001b[0m\u001b[0;34m,\u001b[0m \u001b[0mstacktrace\u001b[0m\u001b[0;34m,\u001b[0m \u001b[0mvalue\u001b[0m\u001b[0;34m[\u001b[0m\u001b[0;34m'alert'\u001b[0m\u001b[0;34m]\u001b[0m\u001b[0;34m.\u001b[0m\u001b[0mget\u001b[0m\u001b[0;34m(\u001b[0m\u001b[0;34m'text'\u001b[0m\u001b[0;34m)\u001b[0m\u001b[0;34m)\u001b[0m\u001b[0;34m\u001b[0m\u001b[0m\n\u001b[0;32m--> 192\u001b[0;31m         \u001b[0;32mraise\u001b[0m \u001b[0mexception_class\u001b[0m\u001b[0;34m(\u001b[0m\u001b[0mmessage\u001b[0m\u001b[0;34m,\u001b[0m \u001b[0mscreen\u001b[0m\u001b[0;34m,\u001b[0m \u001b[0mstacktrace\u001b[0m\u001b[0;34m)\u001b[0m\u001b[0;34m\u001b[0m\u001b[0m\n\u001b[0m\u001b[1;32m    193\u001b[0m \u001b[0;34m\u001b[0m\u001b[0m\n\u001b[1;32m    194\u001b[0m     \u001b[0;32mdef\u001b[0m \u001b[0m_value_or_default\u001b[0m\u001b[0;34m(\u001b[0m\u001b[0mself\u001b[0m\u001b[0;34m,\u001b[0m \u001b[0mobj\u001b[0m\u001b[0;34m,\u001b[0m \u001b[0mkey\u001b[0m\u001b[0;34m,\u001b[0m \u001b[0mdefault\u001b[0m\u001b[0;34m)\u001b[0m\u001b[0;34m:\u001b[0m\u001b[0;34m\u001b[0m\u001b[0m\n",
      "\u001b[0;31mNoSuchWindowException\u001b[0m: Message: no such window: target window already closed\nfrom unknown error: web view not found\n  (Session info: chrome=58.0.3029.110)\n  (Driver info: chromedriver=2.30.477691 (6ee44a7247c639c0703f291d320bdf05c1531b57),platform=Linux 4.4.0-78-generic x86_64)\n"
     ]
    }
   ],
   "source": [
    "my_full_data = pd.DataFrame()\n",
    "\n",
    "driver = webdriver.Chrome() \n",
    "time.sleep(10)\n",
    "rank =1\n",
    "for i in linkek:\n",
    "    \n",
    "    file_name = i.split('/')[4]\n",
    "    driver.get(i)\n",
    "    time.sleep(2)\n",
    "    driver.execute_script(\"window.scrollTo(0, 280);\")\n",
    "    \n",
    "    driver.save_screenshot('grafikon/'+file_name + '.png')\n",
    "    \n",
    "    infok= driver.find_element_by_css_selector('.col-xs-8')\n",
    "    info_szoveg = infok.text.replace('\\n', '#')\n",
    "\n",
    "    ar= driver.find_element_by_css_selector('.text-left .text-large')\n",
    "    price=ar.text.replace('$','')\n",
    "\n",
    "    website_link= driver.find_element_by_css_selector('.list-unstyled li:nth-child(1) a').get_attribute('href')\n",
    "\n",
    "    start_date= driver.find_element_by_css_selector('#highcharts-0 > svg > g.highcharts-input-group > g:nth-child(2) > text')\n",
    "    nyitas = start_date.text\n",
    "\n",
    "\n",
    "    my_data = pd.DataFrame({'name':file_name, 'price': price, 'adatok': info_szoveg, 'start_date':nyitas, 'web_site': website_link, 'rank':rank},index=[0])\n",
    "    my_data.to_csv('data/'+file_name+'.csv', index=False, index_label=False)\n",
    "    my_full_data= my_full_data.append(my_data)\n",
    "    \n",
    "    \n",
    "    driver.get(website_link)\n",
    "    time.sleep(1)\n",
    "    driver.save_screenshot('site/' + file_name + '.png')\n",
    "    rank= rank +1\n",
    "    \n",
    "driver.close()\n"
   ]
  },
  {
   "cell_type": "code",
   "execution_count": null,
   "metadata": {
    "collapsed": true
   },
   "outputs": [],
   "source": []
  }
 ],
 "metadata": {
  "anaconda-cloud": {},
  "kernelspec": {
   "display_name": "Python [default]",
   "language": "python",
   "name": "python3"
  },
  "language_info": {
   "codemirror_mode": {
    "name": "ipython",
    "version": 3
   },
   "file_extension": ".py",
   "mimetype": "text/x-python",
   "name": "python",
   "nbconvert_exporter": "python",
   "pygments_lexer": "ipython3",
   "version": "3.5.2"
  }
 },
 "nbformat": 4,
 "nbformat_minor": 0
}
